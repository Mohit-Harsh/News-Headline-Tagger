{
 "cells": [
  {
   "cell_type": "code",
   "execution_count": 1,
   "id": "0ca35b2a-6d00-44ce-a392-6bf03ba9eb8c",
   "metadata": {},
   "outputs": [],
   "source": [
    "from bs4 import BeautifulSoup\n",
    "import pandas as pd\n",
    "import numpy as np\n",
    "import requests"
   ]
  },
  {
   "cell_type": "markdown",
   "id": "975229fe-3dc2-43bc-bc04-8b4c1697043b",
   "metadata": {},
   "source": [
    "##### Get the Google News url for specific news category like - Entertainment, Sports, Technology etc."
   ]
  },
  {
   "cell_type": "code",
   "execution_count": 2,
   "id": "6d8e9fd0-78c4-474a-973b-9b51a32aea4c",
   "metadata": {},
   "outputs": [],
   "source": [
    "url = \"https://news.google.com/topics/CAAqKggKIiRDQkFTRlFvSUwyMHZNREpxYW5RU0JXVnVMVWRDR2dKSlRpZ0FQAQ?hl=en-IN&gl=IN&ceid=IN%3Aen\""
   ]
  },
  {
   "cell_type": "markdown",
   "id": "3ece5e12-6f45-4756-a43b-071f8315b7f4",
   "metadata": {},
   "source": [
    "##### Initialize BeautifulSoup "
   ]
  },
  {
   "cell_type": "code",
   "execution_count": 3,
   "id": "5cdb4be9-436f-4087-a57a-35e484e57304",
   "metadata": {},
   "outputs": [],
   "source": [
    "soup = BeautifulSoup(requests.get(url).text,\"html.parser\")"
   ]
  },
  {
   "cell_type": "code",
   "execution_count": 4,
   "id": "fdfa0756-13fa-494a-96ae-09cd58f080c9",
   "metadata": {},
   "outputs": [],
   "source": [
    "articles = soup.find_all('article')"
   ]
  },
  {
   "cell_type": "code",
   "execution_count": 5,
   "id": "a10067e2-bacd-4103-ac94-90dcb007ec37",
   "metadata": {},
   "outputs": [],
   "source": [
    "##### Scrape the News Source and Content using Beautiful Soup"
   ]
  },
  {
   "cell_type": "code",
   "execution_count": 6,
   "id": "dbe0d702-bd0b-46d4-b9c9-16217906c86b",
   "metadata": {},
   "outputs": [],
   "source": [
    "source = [a.find('div',{'class':'MCAGUe'}).find('div',{'class':'oovtQ'}).text for a in articles]\n",
    "content = [a.find_all('a')[1].text for a in articles]\n",
    "tag = [\"Entertainment\" for a in articles]"
   ]
  },
  {
   "cell_type": "markdown",
   "id": "7904a3f8-f366-4db0-ac97-b382e1677cb5",
   "metadata": {},
   "source": [
    "##### Create a dataframe to store the data"
   ]
  },
  {
   "cell_type": "code",
   "execution_count": 7,
   "id": "c3a570ec-b1ab-4638-9774-0cd1ccb9818c",
   "metadata": {},
   "outputs": [],
   "source": [
    "df = pd.DataFrame(columns=['source','content','tag'])"
   ]
  },
  {
   "cell_type": "markdown",
   "id": "c10ed1f2-c18c-41fe-a5cc-42cf53936411",
   "metadata": {},
   "source": [
    "##### Create a temporary dataframe to store the data of specific category and concat it to the final dataframe which we created above."
   ]
  },
  {
   "cell_type": "code",
   "execution_count": 8,
   "id": "15a1d8d9-8922-4ad6-b61f-30d2682507bf",
   "metadata": {},
   "outputs": [],
   "source": [
    "temp = pd.DataFrame(columns=['source','content','tag'])\n",
    "temp['source'] = source\n",
    "temp['content'] = content\n",
    "temp['tag'] = tag"
   ]
  },
  {
   "cell_type": "code",
   "execution_count": 9,
   "id": "9038a2ff-4999-4703-abd3-a24f6d2956e8",
   "metadata": {},
   "outputs": [],
   "source": [
    "df = pd.concat([df,temp],axis=0)\n",
    "df.reset_index(inplace=True,drop=['index'])"
   ]
  },
  {
   "cell_type": "code",
   "execution_count": 10,
   "id": "cba30683-4495-4a87-adc1-4e2a6bbf2d1d",
   "metadata": {},
   "outputs": [
    {
     "data": {
      "text/html": [
       "<div>\n",
       "<style scoped>\n",
       "    .dataframe tbody tr th:only-of-type {\n",
       "        vertical-align: middle;\n",
       "    }\n",
       "\n",
       "    .dataframe tbody tr th {\n",
       "        vertical-align: top;\n",
       "    }\n",
       "\n",
       "    .dataframe thead th {\n",
       "        text-align: right;\n",
       "    }\n",
       "</style>\n",
       "<table border=\"1\" class=\"dataframe\">\n",
       "  <thead>\n",
       "    <tr style=\"text-align: right;\">\n",
       "      <th></th>\n",
       "      <th>source</th>\n",
       "      <th>content</th>\n",
       "      <th>tag</th>\n",
       "    </tr>\n",
       "  </thead>\n",
       "  <tbody>\n",
       "    <tr>\n",
       "      <th>0</th>\n",
       "      <td>News18</td>\n",
       "      <td>Ankita Lokhande Breaks Down, Apologises To Vic...</td>\n",
       "      <td>Entertainment</td>\n",
       "    </tr>\n",
       "    <tr>\n",
       "      <th>1</th>\n",
       "      <td>Times of India</td>\n",
       "      <td>Bigg Boss 17: Riteish Deshmukh, Kamya Punjabi,...</td>\n",
       "      <td>Entertainment</td>\n",
       "    </tr>\n",
       "    <tr>\n",
       "      <th>2</th>\n",
       "      <td>Hindustan Times</td>\n",
       "      <td>Ankita's mom tells her not to talk about Susha...</td>\n",
       "      <td>Entertainment</td>\n",
       "    </tr>\n",
       "    <tr>\n",
       "      <th>3</th>\n",
       "      <td>The Indian Express</td>\n",
       "      <td>Bigg Boss 17: Ankita Lokhande apologises to Vi...</td>\n",
       "      <td>Entertainment</td>\n",
       "    </tr>\n",
       "    <tr>\n",
       "      <th>4</th>\n",
       "      <td>Hindustan Times</td>\n",
       "      <td>HanuMan box office collection day 1: Teja Sajj...</td>\n",
       "      <td>Entertainment</td>\n",
       "    </tr>\n",
       "  </tbody>\n",
       "</table>\n",
       "</div>"
      ],
      "text/plain": [
       "               source                                            content  \\\n",
       "0              News18  Ankita Lokhande Breaks Down, Apologises To Vic...   \n",
       "1      Times of India  Bigg Boss 17: Riteish Deshmukh, Kamya Punjabi,...   \n",
       "2     Hindustan Times  Ankita's mom tells her not to talk about Susha...   \n",
       "3  The Indian Express  Bigg Boss 17: Ankita Lokhande apologises to Vi...   \n",
       "4     Hindustan Times  HanuMan box office collection day 1: Teja Sajj...   \n",
       "\n",
       "             tag  \n",
       "0  Entertainment  \n",
       "1  Entertainment  \n",
       "2  Entertainment  \n",
       "3  Entertainment  \n",
       "4  Entertainment  "
      ]
     },
     "execution_count": 10,
     "metadata": {},
     "output_type": "execute_result"
    }
   ],
   "source": [
    "df.head()"
   ]
  },
  {
   "cell_type": "markdown",
   "id": "56f4a8cf-87a1-48bb-9cd9-ab3f4ddf8282",
   "metadata": {},
   "source": [
    "##### Repeat this process for each category of news headlines."
   ]
  },
  {
   "cell_type": "code",
   "execution_count": 11,
   "id": "95742cb3-1879-4a29-97f0-b62eef981cd9",
   "metadata": {},
   "outputs": [
    {
     "name": "stdout",
     "output_type": "stream",
     "text": [
      "<class 'pandas.core.frame.DataFrame'>\n",
      "RangeIndex: 264 entries, 0 to 263\n",
      "Data columns (total 3 columns):\n",
      " #   Column   Non-Null Count  Dtype \n",
      "---  ------   --------------  ----- \n",
      " 0   source   264 non-null    object\n",
      " 1   content  264 non-null    object\n",
      " 2   tag      264 non-null    object\n",
      "dtypes: object(3)\n",
      "memory usage: 6.3+ KB\n"
     ]
    }
   ],
   "source": [
    "df.info()"
   ]
  }
 ],
 "metadata": {
  "kernelspec": {
   "display_name": "Python 3 (ipykernel)",
   "language": "python",
   "name": "python3"
  },
  "language_info": {
   "codemirror_mode": {
    "name": "ipython",
    "version": 3
   },
   "file_extension": ".py",
   "mimetype": "text/x-python",
   "name": "python",
   "nbconvert_exporter": "python",
   "pygments_lexer": "ipython3",
   "version": "3.9.18"
  }
 },
 "nbformat": 4,
 "nbformat_minor": 5
}
