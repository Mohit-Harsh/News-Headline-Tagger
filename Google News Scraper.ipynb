{
 "cells": [
  {
   "cell_type": "code",
   "execution_count": 1,
   "id": "8c4a97e1",
   "metadf": {},
   "outputs": [],
   "source": [
    "import pandas as pd\n",
    "import numpy as np\n",
    "from bs4 import BeautifulSoup\n",
    "import pandas as pd\n",
    "import re\n",
    "import requests\n",
    "from selenium import webdriver\n",
    "from time import sleep\n",
    "import os\n",
    "from http.server import BaseHTTPRequestHandler\n",
    "from selenium import webdriver\n",
    "from selenium.webdriver.chrome.options import Options\n",
    "from selenium.webdriver.chrome.service import Service\n",
    "from selenium.webdriver.common.by import By"
   ]
  },
  {
   "cell_type": "code",
   "execution_count": 193,
   "id": "0ce1f223",
   "metadf": {},
   "outputs": [],
   "source": [
    "df = pd.read_json('google_news_dfset.json')"
   ]
  },
  {
   "cell_type": "code",
   "execution_count": 194,
   "id": "ed7d93c4",
   "metadf": {},
   "outputs": [
    {
     "name": "stdout",
     "output_type": "stream",
     "text": [
      "<class 'pandas.core.frame.dfFrame'>\n",
      "Index: 1517 entries, 0 to 1516\n",
      "df columns (total 3 columns):\n",
      " #   Column    Non-Null Count  Dtype \n",
      "---  ------    --------------  ----- \n",
      " 0   Source    1517 non-null   object\n",
      " 1   Headline  1517 non-null   object\n",
      " 2   Category  1517 non-null   object\n",
      "dtypes: object(3)\n",
      "memory usage: 47.4+ KB\n"
     ]
    }
   ],
   "source": [
    "df.info()"
   ]
  },
  {
   "cell_type": "code",
   "execution_count": 2,
   "id": "0f416f24",
   "metadf": {},
   "outputs": [],
   "source": [
    "service = Service('./chromedriver.exe')\n",
    "options = webdriver.ChromeOptions()\n",
    "options.add_argument('--headless')\n",
    "browser = webdriver.Chrome(service=Service(),options=options)"
   ]
  },
  {
   "cell_type": "code",
   "execution_count": 188,
   "id": "a801bbc2",
   "metadf": {},
   "outputs": [],
   "source": [
    "browser.get(\"https://news.google.com/topics/CAAqJQgKIh9DQkFTRVFvSUwyMHZNR3QwTlRFU0JXVnVMVWRDS0FBUAE?hl=en-IN&gl=IN&ceid=IN%3Aen\")\n",
    "\n",
    "# execute java script\n",
    "browser.execute_script(\"return document.getElementsByTagName('html')[0].innerHTML\")\n",
    "\n",
    "# wait page to load\n",
    "sleep(1)"
   ]
  },
  {
   "cell_type": "code",
   "execution_count": 189,
   "id": "65ed0711",
   "metadf": {},
   "outputs": [
    {
     "df": {
      "text/plain": [
       "86"
      ]
     },
     "execution_count": 189,
     "metadf": {},
     "output_type": "execute_result"
    }
   ],
   "source": [
    "df = browser.find_elements(By.CLASS_NAME,value='UwIKyb')\n",
    "len(df)"
   ]
  },
  {
   "cell_type": "code",
   "execution_count": 190,
   "id": "ac1cd517",
   "metadf": {},
   "outputs": [],
   "source": [
    "for x in df:\n",
    "    \n",
    "    y = x.text.split('\\n')\n",
    "    headlines = y[1]\n",
    "    source = y[0]\n",
    "    row = {\"Source\":[source],\"Headline\":[headlines],\"Category\":'health'}\n",
    "    temp = pd.dfFrame(row,columns=['Source','Headline','Category'])\n",
    "    df = pd.concat([df,temp],axis=0)"
   ]
  },
  {
   "cell_type": "code",
   "execution_count": 191,
   "id": "2c3f7968",
   "metadf": {},
   "outputs": [
    {
     "name": "stdout",
     "output_type": "stream",
     "text": [
      "<class 'pandas.core.frame.dfFrame'>\n",
      "RangeIndex: 1517 entries, 0 to 1516\n",
      "df columns (total 3 columns):\n",
      " #   Column    Non-Null Count  Dtype \n",
      "---  ------    --------------  ----- \n",
      " 0   Source    1517 non-null   object\n",
      " 1   Headline  1517 non-null   object\n",
      " 2   Category  1517 non-null   object\n",
      "dtypes: object(3)\n",
      "memory usage: 35.7+ KB\n"
     ]
    }
   ],
   "source": [
    "df = df.reset_index().drop(['index'],axis=1)\n",
    "df.info()"
   ]
  },
  {
   "cell_type": "code",
   "execution_count": 192,
   "id": "e3a5c023",
   "metadf": {},
   "outputs": [],
   "source": [
    "df.to_json('google_news_dfset.json')\n",
    "df.to_csv('google_news_dfset.csv')"
   ]
  },
  {
   "cell_type": "code",
   "execution_count": null,
   "id": "982293f4",
   "metadf": {},
   "outputs": [],
   "source": []
  }
 ],
 "metadf": {
  "kernelspec": {
   "display_name": "Python 3 (ipykernel)",
   "language": "python",
   "name": "python3"
  },
  "language_info": {
   "codemirror_mode": {
    "name": "ipython",
    "version": 3
   },
   "file_extension": ".py",
   "mimetype": "text/x-python",
   "name": "python",
   "nbconvert_exporter": "python",
   "pygments_lexer": "ipython3",
   "version": "3.9.16"
  }
 },
 "nbformat": 4,
 "nbformat_minor": 5
}
