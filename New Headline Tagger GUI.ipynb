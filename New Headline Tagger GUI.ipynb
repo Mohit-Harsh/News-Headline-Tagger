{
 "cells": [
  {
   "cell_type": "code",
   "execution_count": 2,
   "id": "28cb91cf-87b4-498a-a63c-03bcbdc5bc24",
   "metadata": {},
   "outputs": [
    {
     "name": "stdout",
     "output_type": "stream",
     "text": [
      "1/1 [==============================] - 2s 2s/step\n",
      "1/1 [==============================] - 0s 132ms/step\n",
      "1/1 [==============================] - 0s 134ms/step\n"
     ]
    }
   ],
   "source": [
    "import ttkbootstrap as ttk\n",
    "import tkinter as tk\n",
    "import pandas as pd\n",
    "from tkinter import Tk\n",
    "import numpy as np\n",
    "import tensorflow as tf\n",
    "import tensorflow_hub as hub\n",
    "import tensorflow_text as text\n",
    "import os\n",
    "\n",
    "model = tf.keras.models.load_model('D:/Web Development/News_Headline_Tagger/news_headlines.keras',{'KerasLayer':hub.KerasLayer})\n",
    "\n",
    "\n",
    "def predict():\n",
    "    \n",
    "    prediction = model.predict([headline.get()])\n",
    "    \n",
    "    classes = ['business', 'entertainment', 'environment', 'health', 'politics','space', 'sports', 'technology']\n",
    "    \n",
    "    result.config(text=classes[prediction.argmax()])\n",
    "    result.update()\n",
    "    \n",
    "\n",
    "root = ttk.Window(title=\"News Headline Tagger\")\n",
    "\n",
    "root.geometry('700x300')\n",
    "\n",
    "headline_frame = ttk.Labelframe(root, text='Headline')\n",
    "headline_frame.place(x=50,y=50)\n",
    "headline = ttk.Entry(headline_frame,font=('Helvetica',14),width=40)\n",
    "headline.pack(padx=5,pady=5)\n",
    "\n",
    "submit = ttk.Button(text=\"Predict\",style='primary',command=predict)\n",
    "submit.place(x=550,y=70)\n",
    "\n",
    "tag_frame = ttk.Labelframe(root, text='Tag')\n",
    "tag_frame.place(x=50,y=150)\n",
    "result = ttk.Label(tag_frame,font=('Helvetica',24), width=10)\n",
    "result.pack(padx=5,pady=5)\n",
    "\n",
    "root.mainloop()"
   ]
  },
  {
   "cell_type": "code",
   "execution_count": null,
   "id": "59d7c51a-92d5-4218-8836-adfc681a06c2",
   "metadata": {},
   "outputs": [],
   "source": []
  }
 ],
 "metadata": {
  "kernelspec": {
   "display_name": "Python 3 (ipykernel)",
   "language": "python",
   "name": "python3"
  },
  "language_info": {
   "codemirror_mode": {
    "name": "ipython",
    "version": 3
   },
   "file_extension": ".py",
   "mimetype": "text/x-python",
   "name": "python",
   "nbconvert_exporter": "python",
   "pygments_lexer": "ipython3",
   "version": "3.9.18"
  }
 },
 "nbformat": 4,
 "nbformat_minor": 5
}
