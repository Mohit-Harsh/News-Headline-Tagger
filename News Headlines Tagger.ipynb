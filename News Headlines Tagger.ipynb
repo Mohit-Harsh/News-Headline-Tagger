{
 "cells": [
  {
   "cell_type": "code",
   "execution_count": 1,
   "id": "32d74a06-c739-45ec-9c23-22dc111e2d4a",
   "metadata": {},
   "outputs": [],
   "source": [
    "import pandas as pd\n",
    "import numpy as np\n",
    "import tensorflow as tf\n",
    "import tensorflow_hub as hub\n",
    "import tensorflow_text as text\n",
    "import json\n",
    "from sklearn.model_selection import train_test_split\n",
    "from sklearn.preprocessing import LabelEncoder, OneHotEncoder"
   ]
  },
  {
   "cell_type": "code",
   "execution_count": 3,
   "id": "ce4cee39-d0a0-41fd-aff8-04dcc7c61e46",
   "metadata": {},
   "outputs": [],
   "source": [
    "df = pd.read_json(\"google_news_dataset.json\")"
   ]
  },
  {
   "cell_type": "code",
   "execution_count": 4,
   "id": "758a6afe-6c72-4061-abe4-87e7419628f1",
   "metadata": {},
   "outputs": [
    {
     "data": {
      "text/html": [
       "<div>\n",
       "<style scoped>\n",
       "    .dataframe tbody tr th:only-of-type {\n",
       "        vertical-align: middle;\n",
       "    }\n",
       "\n",
       "    .dataframe tbody tr th {\n",
       "        vertical-align: top;\n",
       "    }\n",
       "\n",
       "    .dataframe thead th {\n",
       "        text-align: right;\n",
       "    }\n",
       "</style>\n",
       "<table border=\"1\" class=\"dataframe\">\n",
       "  <thead>\n",
       "    <tr style=\"text-align: right;\">\n",
       "      <th></th>\n",
       "      <th>Source</th>\n",
       "      <th>Headline</th>\n",
       "      <th>Category</th>\n",
       "    </tr>\n",
       "  </thead>\n",
       "  <tbody>\n",
       "    <tr>\n",
       "      <th>0</th>\n",
       "      <td>Rediff.com</td>\n",
       "      <td>Be Wary Of These Afghans!</td>\n",
       "      <td>sports</td>\n",
       "    </tr>\n",
       "    <tr>\n",
       "      <th>1</th>\n",
       "      <td>Cricbuzz</td>\n",
       "      <td>Bangladesh's top-order a big concern, admits H...</td>\n",
       "      <td>sports</td>\n",
       "    </tr>\n",
       "    <tr>\n",
       "      <th>2</th>\n",
       "      <td>ESPNcricinfo</td>\n",
       "      <td>Shahidi on India's spin challenge: 'We play be...</td>\n",
       "      <td>sports</td>\n",
       "    </tr>\n",
       "    <tr>\n",
       "      <th>3</th>\n",
       "      <td>News18</td>\n",
       "      <td>Shubman Gill to Fly to Ahmedabad, Recovery on ...</td>\n",
       "      <td>sports</td>\n",
       "    </tr>\n",
       "    <tr>\n",
       "      <th>4</th>\n",
       "      <td>BollywoodShaadis.com</td>\n",
       "      <td>Shubman Gill Received A 'Get Well Soon' Tweet ...</td>\n",
       "      <td>sports</td>\n",
       "    </tr>\n",
       "  </tbody>\n",
       "</table>\n",
       "</div>"
      ],
      "text/plain": [
       "                 Source                                           Headline  \\\n",
       "0            Rediff.com                          Be Wary Of These Afghans!   \n",
       "1              Cricbuzz  Bangladesh's top-order a big concern, admits H...   \n",
       "2          ESPNcricinfo  Shahidi on India's spin challenge: 'We play be...   \n",
       "3                News18  Shubman Gill to Fly to Ahmedabad, Recovery on ...   \n",
       "4  BollywoodShaadis.com  Shubman Gill Received A 'Get Well Soon' Tweet ...   \n",
       "\n",
       "  Category  \n",
       "0   sports  \n",
       "1   sports  \n",
       "2   sports  \n",
       "3   sports  \n",
       "4   sports  "
      ]
     },
     "execution_count": 4,
     "metadata": {},
     "output_type": "execute_result"
    }
   ],
   "source": [
    "df.head(5)"
   ]
  },
  {
   "cell_type": "code",
   "execution_count": 5,
   "id": "8fffac83-5885-4f5b-ab48-dba61828833a",
   "metadata": {},
   "outputs": [
    {
     "name": "stdout",
     "output_type": "stream",
     "text": [
      "<class 'pandas.core.frame.DataFrame'>\n",
      "Index: 1517 entries, 0 to 1516\n",
      "Data columns (total 3 columns):\n",
      " #   Column    Non-Null Count  Dtype \n",
      "---  ------    --------------  ----- \n",
      " 0   Source    1517 non-null   object\n",
      " 1   Headline  1517 non-null   object\n",
      " 2   Category  1517 non-null   object\n",
      "dtypes: object(3)\n",
      "memory usage: 47.4+ KB\n"
     ]
    }
   ],
   "source": [
    "df.info()"
   ]
  },
  {
   "cell_type": "code",
   "execution_count": 6,
   "id": "efc1f5af-fbf0-4818-8cc4-2ca9c8a44c57",
   "metadata": {},
   "outputs": [
    {
     "data": {
      "text/plain": [
       "[['The Indian Express', 34],\n",
       " ['India Today', 37],\n",
       " ['Sportskeeda', 42],\n",
       " ['Mint', 44],\n",
       " ['Hindustan Times', 58]]"
      ]
     },
     "execution_count": 6,
     "metadata": {},
     "output_type": "execute_result"
    }
   ],
   "source": [
    "frequency = []\n",
    "\n",
    "for x in list(df.groupby('Source')):\n",
    "    \n",
    "    frequency.append([x[0],len(x[1])])\n",
    "\n",
    "frequency.sort(key=lambda x: x[1])\n",
    "frequency[-5:]"
   ]
  },
  {
   "cell_type": "code",
   "execution_count": 7,
   "id": "2fd791c6-7062-4bbe-8f70-bb1de0cd69c7",
   "metadata": {},
   "outputs": [],
   "source": [
    "df = df.sample(frac=1)"
   ]
  },
  {
   "cell_type": "code",
   "execution_count": 8,
   "id": "8540dd85-6c02-4471-8a54-f6027db06cb0",
   "metadata": {},
   "outputs": [],
   "source": [
    "X_train, X_val, y_train, y_val = train_test_split(df[['Headline']], df['Category'], test_size=0.3, random_state=42)"
   ]
  },
  {
   "cell_type": "code",
   "execution_count": 9,
   "id": "1cac93d3-4bfb-48ff-9231-83fe57898b7e",
   "metadata": {},
   "outputs": [
    {
     "data": {
      "text/plain": [
       "array(['business', 'entertainment', 'environment', 'health', 'politics',\n",
       "       'space', 'sports', 'technology'], dtype=object)"
      ]
     },
     "execution_count": 9,
     "metadata": {},
     "output_type": "execute_result"
    }
   ],
   "source": [
    "le = LabelEncoder()\n",
    "enc = OneHotEncoder(sparse_output=False)\n",
    "le.fit(df['Category'])\n",
    "enc.fit(le.transform(y_train).reshape(-1, 1))\n",
    "y_train = enc.transform(le.transform(y_train).reshape(-1, 1))\n",
    "y_val = enc.transform(le.transform(y_val).reshape(-1, 1))\n",
    "le.classes_"
   ]
  },
  {
   "cell_type": "code",
   "execution_count": 10,
   "id": "23f4b088-5196-43bc-825c-1f244085f7a9",
   "metadata": {},
   "outputs": [],
   "source": [
    "bert_tokenizer = hub.KerasLayer(\"https://www.kaggle.com/models/tensorflow/bert/frameworks/TensorFlow2/variations/bert-en-uncased-l-12-h-768-a-12/versions/2\",trainable=True)\n",
    "bert_preprocessor = hub.KerasLayer(\"https://kaggle.com/models/tensorflow/bert/frameworks/TensorFlow2/variations/en-uncased-preprocess/versions/3\")"
   ]
  },
  {
   "cell_type": "code",
   "execution_count": 11,
   "id": "650bdebd-b4c3-4348-8cb4-73189d8f105f",
   "metadata": {},
   "outputs": [
    {
     "name": "stdout",
     "output_type": "stream",
     "text": [
      "Model: \"model\"\n",
      "__________________________________________________________________________________________________\n",
      " Layer (type)                   Output Shape         Param #     Connected to                     \n",
      "==================================================================================================\n",
      " input_1 (InputLayer)           [(None,)]            0           []                               \n",
      "                                                                                                  \n",
      " keras_layer_1 (KerasLayer)     {'input_mask': (Non  0           ['input_1[0][0]']                \n",
      "                                e, 128),                                                          \n",
      "                                 'input_word_ids':                                                \n",
      "                                (None, 128),                                                      \n",
      "                                 'input_type_ids':                                                \n",
      "                                (None, 128)}                                                      \n",
      "                                                                                                  \n",
      " keras_layer (KerasLayer)       {'sequence_output':  109482241   ['keras_layer_1[0][0]',          \n",
      "                                 (None, 128, 768),                'keras_layer_1[0][1]',          \n",
      "                                 'pooled_output': (               'keras_layer_1[0][2]']          \n",
      "                                None, 768),                                                       \n",
      "                                 'encoder_outputs':                                               \n",
      "                                 [(None, 128, 768),                                               \n",
      "                                 (None, 128, 768),                                                \n",
      "                                 (None, 128, 768),                                                \n",
      "                                 (None, 128, 768),                                                \n",
      "                                 (None, 128, 768),                                                \n",
      "                                 (None, 128, 768),                                                \n",
      "                                 (None, 128, 768),                                                \n",
      "                                 (None, 128, 768),                                                \n",
      "                                 (None, 128, 768),                                                \n",
      "                                 (None, 128, 768),                                                \n",
      "                                 (None, 128, 768),                                                \n",
      "                                 (None, 128, 768)],                                               \n",
      "                                 'default': (None,                                                \n",
      "                                768)}                                                             \n",
      "                                                                                                  \n",
      " dense (Dense)                  (None, 128, 768)     590592      ['keras_layer[0][14]']           \n",
      "                                                                                                  \n",
      " lstm (LSTM)                    (None, 768)          4721664     ['dense[0][0]']                  \n",
      "                                                                                                  \n",
      " dropout (Dropout)              (None, 768)          0           ['lstm[0][0]']                   \n",
      "                                                                                                  \n",
      " dense_1 (Dense)                (None, 8)            6152        ['dropout[0][0]']                \n",
      "                                                                                                  \n",
      "==================================================================================================\n",
      "Total params: 114,800,649\n",
      "Trainable params: 5,318,408\n",
      "Non-trainable params: 109,482,241\n",
      "__________________________________________________________________________________________________\n"
     ]
    }
   ],
   "source": [
    "text_input = tf.keras.layers.Input(shape=(),dtype=tf.string)\n",
    "\n",
    "text_preprocessed = bert_preprocessor(text_input)\n",
    "\n",
    "outputs = bert_tokenizer(text_preprocessed)\n",
    "\n",
    "hidden1 = tf.keras.layers.Dense(units=768,activation='relu')(outputs['sequence_output'])\n",
    "\n",
    "hidden2 = tf.keras.layers.LSTM(units=768,activation='tanh')(hidden1)\n",
    "\n",
    "hidden3 = tf.keras.layers.Dropout(0.3)(hidden2)\n",
    "\n",
    "hidden4 = tf.keras.layers.Dense(len(df['Category'].unique()), activation='softmax')(hidden3)\n",
    "\n",
    "model = tf.keras.Model(inputs=[text_input],outputs=[hidden4])\n",
    "model.summary()"
   ]
  },
  {
   "cell_type": "code",
   "execution_count": 12,
   "id": "bc3a5697-3e4a-4eb8-baad-487c0a78738f",
   "metadata": {},
   "outputs": [],
   "source": [
    "model.compile(\n",
    "  optimizer='adam',\n",
    "  loss=tf.keras.losses.categorical_crossentropy,\n",
    "  metrics=['accuracy'],\n",
    ")"
   ]
  },
  {
   "cell_type": "code",
   "execution_count": 14,
   "id": "f50b0e7c-2603-4c05-829e-231da959592a",
   "metadata": {},
   "outputs": [],
   "source": [
    "early_stopping = tf.keras.callbacks.EarlyStopping(monitor='val_loss',patience=2,verbose=1)"
   ]
  },
  {
   "cell_type": "code",
   "execution_count": 16,
   "id": "a8b0c845-ae27-4f60-af71-4ade921c0832",
   "metadata": {},
   "outputs": [
    {
     "name": "stdout",
     "output_type": "stream",
     "text": [
      "Epoch 1/20\n",
      "67/67 [==============================] - 19s 176ms/step - loss: 0.8263 - accuracy: 0.7116 - val_loss: 0.5488 - val_accuracy: 0.8202\n",
      "Epoch 2/20\n",
      "67/67 [==============================] - 11s 163ms/step - loss: 0.3944 - accuracy: 0.8728 - val_loss: 0.6448 - val_accuracy: 0.7807\n",
      "Epoch 3/20\n",
      "67/67 [==============================] - 11s 162ms/step - loss: 0.2686 - accuracy: 0.9114 - val_loss: 0.5063 - val_accuracy: 0.8575\n",
      "Epoch 4/20\n",
      "67/67 [==============================] - 11s 162ms/step - loss: 0.2058 - accuracy: 0.9369 - val_loss: 0.4898 - val_accuracy: 0.8618\n",
      "Epoch 5/20\n",
      "67/67 [==============================] - 11s 162ms/step - loss: 0.1355 - accuracy: 0.9585 - val_loss: 0.4406 - val_accuracy: 0.8860\n",
      "Epoch 6/20\n",
      "67/67 [==============================] - 11s 162ms/step - loss: 0.0860 - accuracy: 0.9736 - val_loss: 0.5784 - val_accuracy: 0.8443\n",
      "Epoch 7/20\n",
      "67/67 [==============================] - 11s 162ms/step - loss: 0.0745 - accuracy: 0.9793 - val_loss: 0.6694 - val_accuracy: 0.8553\n",
      "Epoch 7: early stopping\n"
     ]
    }
   ],
   "source": [
    "with tf.device('/GPU:0'):\n",
    "    model.fit(x=X_train, y=y_train,epochs=20,validation_data=(X_val,y_val), batch_size=16, callbacks = [early_stopping])"
   ]
  },
  {
   "cell_type": "code",
   "execution_count": 17,
   "id": "8455fd53-202a-42a5-b9b1-2f4667e44abe",
   "metadata": {},
   "outputs": [],
   "source": [
    "model.save('news_headlines.keras')"
   ]
  },
  {
   "cell_type": "code",
   "execution_count": 18,
   "id": "d661f413-b53e-4efa-ad08-6dbf4dca9415",
   "metadata": {},
   "outputs": [],
   "source": [
    "X = df.sample(100)\n",
    "X_test = X[['Headline']]\n",
    "y_test = enc.transform(le.transform(X['Category']).reshape(-1, 1)) "
   ]
  },
  {
   "cell_type": "code",
   "execution_count": 19,
   "id": "792f94d5-9fc3-4ac8-9d11-98fdafbf0c0d",
   "metadata": {},
   "outputs": [
    {
     "name": "stdout",
     "output_type": "stream",
     "text": [
      "4/4 [==============================] - 1s 152ms/step - loss: 0.2128 - accuracy: 0.9600\n"
     ]
    },
    {
     "data": {
      "text/plain": [
       "[0.21275611221790314, 0.9599999785423279]"
      ]
     },
     "execution_count": 19,
     "metadata": {},
     "output_type": "execute_result"
    }
   ],
   "source": [
    "model.evaluate(X_test,y_test)"
   ]
  },
  {
   "cell_type": "code",
   "execution_count": 20,
   "id": "3fa1bed3-6834-40c0-b609-f762674b6bb0",
   "metadata": {},
   "outputs": [
    {
     "name": "stdout",
     "output_type": "stream",
     "text": [
      "1/1 [==============================] - 1s 895ms/step\n"
     ]
    }
   ],
   "source": [
    "prediction = model.predict(['MEA sets up 24-hour control room in view of Israel-Palestine conflict'])"
   ]
  },
  {
   "cell_type": "code",
   "execution_count": 21,
   "id": "38616a8e-8762-494c-a392-4d13e708bfd1",
   "metadata": {},
   "outputs": [
    {
     "name": "stdout",
     "output_type": "stream",
     "text": [
      "politics\n"
     ]
    }
   ],
   "source": [
    "for p in prediction:\n",
    "    \n",
    "    print(le.classes_[p.argmax()])"
   ]
  },
  {
   "cell_type": "code",
   "execution_count": null,
   "id": "50760c9e-368b-4c19-9b5d-7efda4d3ccfe",
   "metadata": {},
   "outputs": [],
   "source": []
  }
 ],
 "metadata": {
  "kernelspec": {
   "display_name": "Python 3 (ipykernel)",
   "language": "python",
   "name": "python3"
  },
  "language_info": {
   "codemirror_mode": {
    "name": "ipython",
    "version": 3
   },
   "file_extension": ".py",
   "mimetype": "text/x-python",
   "name": "python",
   "nbconvert_exporter": "python",
   "pygments_lexer": "ipython3",
   "version": "3.9.18"
  }
 },
 "nbformat": 4,
 "nbformat_minor": 5
}
