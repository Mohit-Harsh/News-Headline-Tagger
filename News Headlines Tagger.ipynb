{
 "cells": [
  {
   "cell_type": "code",
   "execution_count": 1,
   "id": "b10ee2f6",
   "metadf": {},
   "outputs": [],
   "source": [
    "import pandas as pd\n",
    "import numpy as np"
   ]
  },
  {
   "cell_type": "code",
   "execution_count": 2,
   "id": "e47051ea",
   "metadf": {},
   "outputs": [],
   "source": [
    "df = pd.read_json(\"google_news_dfset.json\")"
   ]
  },
  {
   "cell_type": "code",
   "execution_count": 3,
   "id": "225b8a1b",
   "metadf": {},
   "outputs": [
    {
     "df": {
      "text/html": [
       "<div>\n",
       "<style scoped>\n",
       "    .dfframe tbody tr th:only-of-type {\n",
       "        vertical-align: middle;\n",
       "    }\n",
       "\n",
       "    .dfframe tbody tr th {\n",
       "        vertical-align: top;\n",
       "    }\n",
       "\n",
       "    .dfframe thead th {\n",
       "        text-align: right;\n",
       "    }\n",
       "</style>\n",
       "<table border=\"1\" class=\"dfframe\">\n",
       "  <thead>\n",
       "    <tr style=\"text-align: right;\">\n",
       "      <th></th>\n",
       "      <th>Source</th>\n",
       "      <th>Headline</th>\n",
       "      <th>Category</th>\n",
       "    </tr>\n",
       "  </thead>\n",
       "  <tbody>\n",
       "    <tr>\n",
       "      <th>259</th>\n",
       "      <td>Express</td>\n",
       "      <td>David de Gea's two-word message highlights his...</td>\n",
       "      <td>sports</td>\n",
       "    </tr>\n",
       "    <tr>\n",
       "      <th>750</th>\n",
       "      <td>The Wire</td>\n",
       "      <td>Full Text: Bihar Caste Survey Highlights Margi...</td>\n",
       "      <td>politics</td>\n",
       "    </tr>\n",
       "    <tr>\n",
       "      <th>916</th>\n",
       "      <td>India TV News</td>\n",
       "      <td>No patch up with Naga Chaitanya? Samantha Ruth...</td>\n",
       "      <td>entertainment</td>\n",
       "    </tr>\n",
       "    <tr>\n",
       "      <th>563</th>\n",
       "      <td>Bright Side Of The Sun</td>\n",
       "      <td>Stephen’s Video Breakdown: Drives, free throws...</td>\n",
       "      <td>sports</td>\n",
       "    </tr>\n",
       "    <tr>\n",
       "      <th>345</th>\n",
       "      <td>Six Sports India</td>\n",
       "      <td>Marcos Leonardo targeted by Mikel Arteta</td>\n",
       "      <td>sports</td>\n",
       "    </tr>\n",
       "    <tr>\n",
       "      <th>26</th>\n",
       "      <td>Cricket Times</td>\n",
       "      <td>CWC 2023: 'Whatever little criticism I had…' –...</td>\n",
       "      <td>sports</td>\n",
       "    </tr>\n",
       "    <tr>\n",
       "      <th>273</th>\n",
       "      <td>Man Utd</td>\n",
       "      <td>Opinion: Why the international break is good n...</td>\n",
       "      <td>sports</td>\n",
       "    </tr>\n",
       "    <tr>\n",
       "      <th>1148</th>\n",
       "      <td>afaqs!</td>\n",
       "      <td>Lendingkart appoints Tilt Brand Solutions as i...</td>\n",
       "      <td>technology</td>\n",
       "    </tr>\n",
       "    <tr>\n",
       "      <th>1234</th>\n",
       "      <td>O'Reilly Radar</td>\n",
       "      <td>Automated Mentoring with ChatGPT – O'Reilly</td>\n",
       "      <td>technology</td>\n",
       "    </tr>\n",
       "    <tr>\n",
       "      <th>97</th>\n",
       "      <td>The Hard Tackle</td>\n",
       "      <td>Ivan Toney keen on joining Arsenal in January</td>\n",
       "      <td>sports</td>\n",
       "    </tr>\n",
       "  </tbody>\n",
       "</table>\n",
       "</div>"
      ],
      "text/plain": [
       "                      Source  \\\n",
       "259                  Express   \n",
       "750                 The Wire   \n",
       "916            India TV News   \n",
       "563   Bright Side Of The Sun   \n",
       "345         Six Sports India   \n",
       "26             Cricket Times   \n",
       "273                  Man Utd   \n",
       "1148                  afaqs!   \n",
       "1234          O'Reilly Radar   \n",
       "97           The Hard Tackle   \n",
       "\n",
       "                                               Headline       Category  \n",
       "259   David de Gea's two-word message highlights his...         sports  \n",
       "750   Full Text: Bihar Caste Survey Highlights Margi...       politics  \n",
       "916   No patch up with Naga Chaitanya? Samantha Ruth...  entertainment  \n",
       "563   Stephen’s Video Breakdown: Drives, free throws...         sports  \n",
       "345            Marcos Leonardo targeted by Mikel Arteta         sports  \n",
       "26    CWC 2023: 'Whatever little criticism I had…' –...         sports  \n",
       "273   Opinion: Why the international break is good n...         sports  \n",
       "1148  Lendingkart appoints Tilt Brand Solutions as i...     technology  \n",
       "1234        Automated Mentoring with ChatGPT – O'Reilly     technology  \n",
       "97        Ivan Toney keen on joining Arsenal in January         sports  "
      ]
     },
     "execution_count": 3,
     "metadf": {},
     "output_type": "execute_result"
    }
   ],
   "source": [
    "df.sample(10)"
   ]
  },
  {
   "cell_type": "code",
   "execution_count": 4,
   "id": "71171085",
   "metadf": {},
   "outputs": [
    {
     "name": "stdout",
     "output_type": "stream",
     "text": [
      "<class 'pandas.core.frame.dfFrame'>\n",
      "Index: 1517 entries, 0 to 1516\n",
      "df columns (total 3 columns):\n",
      " #   Column    Non-Null Count  Dtype \n",
      "---  ------    --------------  ----- \n",
      " 0   Source    1517 non-null   object\n",
      " 1   Headline  1517 non-null   object\n",
      " 2   Category  1517 non-null   object\n",
      "dtypes: object(3)\n",
      "memory usage: 47.4+ KB\n"
     ]
    }
   ],
   "source": [
    "df.info()"
   ]
  },
  {
   "cell_type": "code",
   "execution_count": 5,
   "id": "063a33c2",
   "metadf": {},
   "outputs": [],
   "source": [
    "import seaborn as sns"
   ]
  },
  {
   "cell_type": "code",
   "execution_count": 6,
   "id": "6cd6f357",
   "metadf": {},
   "outputs": [],
   "source": [
    "frequency = []\n",
    "\n",
    "for x in list(df.groupby('Source')):\n",
    "    \n",
    "    frequency.append([x[0],len(x[1])])"
   ]
  },
  {
   "cell_type": "code",
   "execution_count": 7,
   "id": "04be339d",
   "metadf": {},
   "outputs": [],
   "source": [
    "frequency.sort(key=lambda x: x[1])"
   ]
  },
  {
   "cell_type": "code",
   "execution_count": 8,
   "id": "b9610d5e",
   "metadf": {},
   "outputs": [
    {
     "df": {
      "text/plain": [
       "[['The Indian Express', 34],\n",
       " ['India Today', 37],\n",
       " ['Sportskeeda', 42],\n",
       " ['Mint', 44],\n",
       " ['Hindustan Times', 58]]"
      ]
     },
     "execution_count": 8,
     "metadf": {},
     "output_type": "execute_result"
    }
   ],
   "source": [
    "frequency[-5:]"
   ]
  },
  {
   "cell_type": "code",
   "execution_count": 9,
   "id": "a3b8efc9",
   "metadf": {},
   "outputs": [],
   "source": [
    "import tensorflow as tf\n",
    "import tensorflow_hub as hub\n",
    "import tensorflow_text as text\n",
    "import json\n",
    "import os"
   ]
  },
  {
   "cell_type": "code",
   "execution_count": 10,
   "id": "8bab6595",
   "metadf": {},
   "outputs": [],
   "source": [
    "df = df.sample(frac=1)"
   ]
  },
  {
   "cell_type": "code",
   "execution_count": 11,
   "id": "4e530b56",
   "metadf": {},
   "outputs": [],
   "source": [
    "from sklearn.model_selection import train_test_split\n",
    "from sklearn.preprocessing import LabelEncoder, OneHotEncoder"
   ]
  },
  {
   "cell_type": "code",
   "execution_count": 12,
   "id": "a74e42bf",
   "metadf": {},
   "outputs": [],
   "source": [
    "X_train, X_val, y_train, y_val = train_test_split(df[['Headline']], df['Category'], test_size=0.3, random_state=42)"
   ]
  },
  {
   "cell_type": "code",
   "execution_count": 13,
   "id": "bcb0bb7b",
   "metadf": {},
   "outputs": [
    {
     "df": {
      "text/plain": [
       "array(['business', 'entertainment', 'environment', 'health', 'politics',\n",
       "       'space', 'sports', 'technology'], dtype=object)"
      ]
     },
     "execution_count": 13,
     "metadf": {},
     "output_type": "execute_result"
    }
   ],
   "source": [
    "le = LabelEncoder()\n",
    "enc = OneHotEncoder(sparse_output=False)\n",
    "le.fit(df['Category'])\n",
    "enc.fit(le.transform(y_train).reshape(-1, 1))\n",
    "y_train = enc.transform(le.transform(y_train).reshape(-1, 1))\n",
    "y_val = enc.transform(le.transform(y_val).reshape(-1, 1))\n",
    "le.classes_"
   ]
  },
  {
   "cell_type": "code",
   "execution_count": 14,
   "id": "3c6bdd93",
   "metadf": {},
   "outputs": [
    {
     "df": {
      "text/plain": [
       "'d:\\\\Web Development'"
      ]
     },
     "execution_count": 14,
     "metadf": {},
     "output_type": "execute_result"
    }
   ],
   "source": [
    "dir = \"\\\\\".join(os.getcwd().strip().split('\\\\')[:-1])\n",
    "dir"
   ]
  },
  {
   "cell_type": "code",
   "execution_count": 15,
   "id": "a7ddcf2b",
   "metadf": {},
   "outputs": [],
   "source": [
    "\n",
    "bert_tokenizer = hub.KerasLayer(dir+\"\\\\Tensorflow_Hub_Models\\\\bert_en_uncased_L-12_H-768_A-12_4\")\n",
    "bert_preprocessor = hub.KerasLayer(dir+\"\\\\Tensorflow_Hub_Models\\\\bert_en_uncased_preprocess_3\")"
   ]
  },
  {
   "cell_type": "code",
   "execution_count": 16,
   "id": "2b6b06ec",
   "metadf": {},
   "outputs": [
    {
     "name": "stdout",
     "output_type": "stream",
     "text": [
      "Model: \"model\"\n",
      "__________________________________________________________________________________________________\n",
      " Layer (type)                   Output Shape         Param #     Connected to                     \n",
      "==================================================================================================\n",
      " input_1 (InputLayer)           [(None,)]            0           []                               \n",
      "                                                                                                  \n",
      " keras_layer_1 (KerasLayer)     {'input_mask': (Non  0           ['input_1[0][0]']                \n",
      "                                e, 128),                                                          \n",
      "                                 'input_word_ids':                                                \n",
      "                                (None, 128),                                                      \n",
      "                                 'input_type_ids':                                                \n",
      "                                (None, 128)}                                                      \n",
      "                                                                                                  \n",
      " keras_layer (KerasLayer)       {'sequence_output':  109482241   ['keras_layer_1[0][0]',          \n",
      "                                 (None, 128, 768),                'keras_layer_1[0][1]',          \n",
      "                                 'pooled_output': (               'keras_layer_1[0][2]']          \n",
      "                                None, 768),                                                       \n",
      "                                 'encoder_outputs':                                               \n",
      "                                 [(None, 128, 768),                                               \n",
      "                                 (None, 128, 768),                                                \n",
      "                                 (None, 128, 768),                                                \n",
      "                                 (None, 128, 768),                                                \n",
      "                                 (None, 128, 768),                                                \n",
      "                                 (None, 128, 768),                                                \n",
      "                                 (None, 128, 768),                                                \n",
      "                                 (None, 128, 768),                                                \n",
      "                                 (None, 128, 768),                                                \n",
      "                                 (None, 128, 768),                                                \n",
      "                                 (None, 128, 768),                                                \n",
      "                                 (None, 128, 768)],                                               \n",
      "                                 'default': (None,                                                \n",
      "                                768)}                                                             \n",
      "                                                                                                  \n",
      " dense (Dense)                  (None, 128, 768)     590592      ['keras_layer[0][14]']           \n",
      "                                                                                                  \n",
      " lstm (LSTM)                    (None, 768)          4721664     ['dense[0][0]']                  \n",
      "                                                                                                  \n",
      " dropout (Dropout)              (None, 768)          0           ['lstm[0][0]']                   \n",
      "                                                                                                  \n",
      " dense_1 (Dense)                (None, 8)            6152        ['dropout[0][0]']                \n",
      "                                                                                                  \n",
      "==================================================================================================\n",
      "Total params: 114,800,649\n",
      "Trainable params: 5,318,408\n",
      "Non-trainable params: 109,482,241\n",
      "__________________________________________________________________________________________________\n"
     ]
    }
   ],
   "source": [
    "text_input = tf.keras.layers.Input(shape=(),dtype=tf.string)\n",
    "\n",
    "text_preprocessed = bert_preprocessor(text_input)\n",
    "\n",
    "outputs = bert_tokenizer(text_preprocessed)\n",
    "\n",
    "hidden1 = tf.keras.layers.Dense(units=768,activation='relu')(outputs['sequence_output'])\n",
    "\n",
    "hidden2 = tf.keras.layers.LSTM(units=768,activation='tanh')(hidden1)\n",
    "\n",
    "hidden3 = tf.keras.layers.Dropout(0.3)(hidden2)\n",
    "\n",
    "hidden4 = tf.keras.layers.Dense(len(df['Category'].unique()), activation='softmax')(hidden3)\n",
    "\n",
    "model = tf.keras.Model(inputs=[text_input],outputs=[hidden4])\n",
    "model.summary()"
   ]
  },
  {
   "cell_type": "code",
   "execution_count": 17,
   "id": "59558155",
   "metadf": {},
   "outputs": [],
   "source": [
    "model.compile(\n",
    "  optimizer='adam',\n",
    "  loss=tf.keras.losses.categorical_crossentropy,\n",
    "  metrics=['accuracy'],\n",
    ")"
   ]
  },
  {
   "cell_type": "code",
   "execution_count": 18,
   "id": "2fb4116c",
   "metadf": {},
   "outputs": [
    {
     "name": "stdout",
     "output_type": "stream",
     "text": [
      "Epoch 1/10\n",
      "67/67 [==============================] - 23s 185ms/step - loss: 0.8276 - accuracy: 0.7107 - val_loss: 0.6349 - val_accuracy: 0.7807\n",
      "Epoch 2/10\n",
      "67/67 [==============================] - 11s 169ms/step - loss: 0.3875 - accuracy: 0.8775 - val_loss: 0.7209 - val_accuracy: 0.7741\n",
      "Epoch 3/10\n",
      "67/67 [==============================] - 11s 169ms/step - loss: 0.3162 - accuracy: 0.8935 - val_loss: 0.5719 - val_accuracy: 0.8377\n",
      "Epoch 4/10\n",
      "67/67 [==============================] - 11s 169ms/step - loss: 0.1713 - accuracy: 0.9434 - val_loss: 0.5600 - val_accuracy: 0.8377\n",
      "Epoch 5/10\n",
      "67/67 [==============================] - 11s 169ms/step - loss: 0.1431 - accuracy: 0.9463 - val_loss: 0.5064 - val_accuracy: 0.8509\n",
      "Epoch 6/10\n",
      "67/67 [==============================] - 11s 169ms/step - loss: 0.0800 - accuracy: 0.9736 - val_loss: 0.6951 - val_accuracy: 0.8224\n",
      "Epoch 7/10\n",
      "67/67 [==============================] - 11s 170ms/step - loss: 0.1292 - accuracy: 0.9529 - val_loss: 0.5545 - val_accuracy: 0.8355\n",
      "Epoch 8/10\n",
      "67/67 [==============================] - 11s 170ms/step - loss: 0.1205 - accuracy: 0.9614 - val_loss: 0.5262 - val_accuracy: 0.8640\n",
      "Epoch 9/10\n",
      "67/67 [==============================] - 11s 170ms/step - loss: 0.0468 - accuracy: 0.9887 - val_loss: 0.5506 - val_accuracy: 0.8553\n",
      "Epoch 10/10\n",
      "67/67 [==============================] - 11s 170ms/step - loss: 0.0244 - accuracy: 0.9925 - val_loss: 0.6778 - val_accuracy: 0.8684\n"
     ]
    }
   ],
   "source": [
    "with tf.device('/GPU:0'):\n",
    "    model.fit(x=X_train, y=y_train,epochs=10,validation_df=(X_val,y_val), batch_size=16)"
   ]
  },
  {
   "cell_type": "code",
   "execution_count": 19,
   "id": "aea3a0fa",
   "metadf": {},
   "outputs": [],
   "source": [
    "model.save('news_headlines.keras')"
   ]
  },
  {
   "cell_type": "code",
   "execution_count": 20,
   "id": "6edf9927",
   "metadf": {},
   "outputs": [],
   "source": [
    "X = df.sample(100)\n",
    "X_test = X[['Headline']]\n",
    "y_test = enc.transform(le.transform(X['Category']).reshape(-1, 1)) "
   ]
  },
  {
   "cell_type": "code",
   "execution_count": 21,
   "id": "9d7d6ea7",
   "metadf": {},
   "outputs": [
    {
     "name": "stdout",
     "output_type": "stream",
     "text": [
      "4/4 [==============================] - 1s 160ms/step - loss: 0.3066 - accuracy: 0.9400\n"
     ]
    },
    {
     "df": {
      "text/plain": [
       "[0.3065693974494934, 0.9399999976158142]"
      ]
     },
     "execution_count": 21,
     "metadf": {},
     "output_type": "execute_result"
    }
   ],
   "source": [
    "model.evaluate(X_test,y_test)"
   ]
  },
  {
   "cell_type": "code",
   "execution_count": 22,
   "id": "b95c451f",
   "metadf": {},
   "outputs": [
    {
     "name": "stdout",
     "output_type": "stream",
     "text": [
      "1/1 [==============================] - 1s 940ms/step\n"
     ]
    }
   ],
   "source": [
    "prediction = model.predict(['MEA sets up 24-hour control room in view of Israel-Palestine conflict'])"
   ]
  },
  {
   "cell_type": "code",
   "execution_count": 23,
   "id": "2d18f247",
   "metadf": {},
   "outputs": [
    {
     "name": "stdout",
     "output_type": "stream",
     "text": [
      "politics\n"
     ]
    }
   ],
   "source": [
    "for p in prediction:\n",
    "    \n",
    "    print(le.classes_[p.argmax()])"
   ]
  },
  {
   "cell_type": "code",
   "execution_count": null,
   "id": "e791a736",
   "metadf": {},
   "outputs": [],
   "source": []
  }
 ],
 "metadf": {
  "kernelspec": {
   "display_name": "Python 3 (ipykernel)",
   "language": "python",
   "name": "python3"
  },
  "language_info": {
   "codemirror_mode": {
    "name": "ipython",
    "version": 3
   },
   "file_extension": ".py",
   "mimetype": "text/x-python",
   "name": "python",
   "nbconvert_exporter": "python",
   "pygments_lexer": "ipython3",
   "version": "3.9.16"
  }
 },
 "nbformat": 4,
 "nbformat_minor": 5
}
